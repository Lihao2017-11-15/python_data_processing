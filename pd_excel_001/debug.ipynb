{
 "metadata": {
  "language_info": {
   "codemirror_mode": {
    "name": "ipython",
    "version": 3
   },
   "file_extension": ".py",
   "mimetype": "text/x-python",
   "name": "python",
   "nbconvert_exporter": "python",
   "pygments_lexer": "ipython3",
   "version": "3.8.5"
  },
  "orig_nbformat": 2,
  "kernelspec": {
   "name": "python385jvsc74a57bd0aa514de0f8747b2d8b80f3322e3862f55c06f0833deeca4dd8f274fd0cc8818e",
   "display_name": "Python 3.8.5 64-bit"
  },
  "metadata": {
   "interpreter": {
    "hash": "aa514de0f8747b2d8b80f3322e3862f55c06f0833deeca4dd8f274fd0cc8818e"
   }
  }
 },
 "nbformat": 4,
 "nbformat_minor": 2,
 "cells": [
  {
   "cell_type": "code",
   "execution_count": 195,
   "metadata": {},
   "outputs": [],
   "source": [
    "import pandas as pd\n",
    "with pd.io.excel.ExcelFile(\"mapped.xlsx\") as io:\n",
    "    df1 = pd.read_excel(io,sheet_name=io.sheet_names[0])\n",
    "    df2 = pd.read_excel(io,sheet_name=io.sheet_names[1])\n",
    "original_col0 = df1.columns[0]\n",
    "original_col1 = df1.columns[1]\n",
    "df1.rename(columns={original_col0:df2.columns[0],original_col1:df2.columns[1]},inplace=True)\n",
    "df1.set_index(df1.columns[0],inplace=True)\n",
    "df2.set_index(df2.columns[0],inplace=True)\n",
    "df1.update(df2)\n",
    "df1.reset_index(inplace=True)\n",
    "df1.rename(columns={df1.columns[0]:original_col0,df1.columns[1]:original_col1},inplace=True)\n",
    "df1.iloc[:,0] = df1.iloc[:,0].astype(\"str\")\n",
    "df1.iloc[:,0] = df1.iloc[:,0].apply(lambda x: \"\\t\" + x)\n",
    "df1.to_csv(\"result.csv\",index=False)"
   ]
  }
 ]
}